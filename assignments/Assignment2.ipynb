{
 "cells": [
  {
   "cell_type": "markdown",
   "metadata": {},
   "source": [
    "# Assignment 2.\n",
    "\n",
    "## Formalia:\n",
    "\n",
    "Please read the [assignment overview page](https://github.com/suneman/socialdataanalysis2016/wiki/Assignments) carefully before proceeding. This page contains information about formatting (including formats etc), group sizes, and many other aspects of handing in the assignment. \n",
    "\n",
    "_If you fail to follow these simple instructions, it will negatively impact your grade!_\n",
    "\n",
    "**Due date and time**: The assignment is due on Sunday April 3rd, 2016 at 23:55. Simply upload a link to your webpage via [`http://peergrade.io`](http://peergrade.io/).\n",
    "\n",
    "**Peergrading date and time**: _Remember that after handing in you have **48 hours** to evaluate a few assignments written by other members of the class_. Thus, the peer evaluations are due on Tuesday Apr 5th, 2016 at 23:55."
   ]
  },
  {
   "cell_type": "markdown",
   "metadata": {},
   "source": [
    "## Assignment format\n",
    "\n",
    "This time you will _not_ be handing in an IPython Notebook, but a link to a webpage full of your `D3.js` visualizations (recall that we've discussed ideas for hosting during week 6). The webpage should be organized into blocks corresponding to the sub-assignments you're solving. Within the webpage, please use an `<h2>` tag to denote each exercise ... something like\n",
    "```\n",
    "<h2>Assignment 2A: Simple SVG stuff</h2>\n",
    "```\n",
    "Also add a little text before each visualization explaining what we're looking at.\n",
    "\n",
    "When we evaluate your work, we'll use \"view source\" to inspect your code."
   ]
  },
  {
   "cell_type": "markdown",
   "metadata": {},
   "source": [
    "## Assignment 2A: Simple SVG stuff\n",
    "\n",
    "Put something simple on the web. For this exercise, I want you to modify a bit of code from IDV Chapter 5.\n",
    "\n",
    "* Create your own version of example 5-14 with the following tweaks\n",
    " - It should go on the website you've just set up\n",
    " - You should modify the website's global style file to bold, 24 pt, sans-serif font.\n",
    "* Add some SVG graphics below the D3. Create an new version of the 5 SVG squares in example 3-22. Make the following modifications\n",
    " - Add a gray boundary of width 2.\n",
    " - Make the squares increasingly transparant from left to right.\n",
    " - Make the squares 80 by 80 instead of 30 by 30.\n",
    " - Make the squares go from bottom of the SVG element to the top instead of the other way around."
   ]
  },
  {
   "cell_type": "markdown",
   "metadata": {},
   "source": [
    "## Assignment 2B: One scatter plot and two datasets\n",
    "\n",
    "This scatter plot visualization should pull data from an associated CSV/JSON file (it's easiest to use Python to generate a nicely formatted file that contains _only the data you need for the visualization_). You should use appropriate dynamic scales (see chapter 7 of IDV). Additional requirements for the visualizations are listed below\n",
    "\n",
    "* Each point should correspond to a district\n",
    "* Points should be labeled\n",
    "* The radius of a point should be proportional to total number of crimes in that district \n",
    "* The $x$-axis should correspond to total number of `PROSTITUTION` incidents\n",
    "* The $y$-axis should correspond to total number of `VEHICLE THEFT` incidents\n",
    "* Click on something (your choice) to toggle between data from 2003 and 2015 - there must be a smooth transition. \n",
    "* Axes should not change but fit data from both years.\n",
    "* Explain in your own words why you think I want the axes to be the same for both years? (Even though you know how to make axes adapt to the data values.)"
   ]
  },
  {
   "cell_type": "markdown",
   "metadata": {},
   "source": [
    "## Assignment 2C: One barchart and (at least) two datasets\n",
    "\n",
    "This barchart visualization should also pull data from an associated CSV/JSON file. Here, Once again, you should use appropriate dynamic scales (see chapter 7 of IDV). Additional requirements for the visualizations are listed below\n",
    "\n",
    "* This visualization consists of one histogram, which is able to switch between at least two datasets. You get to choose something interesting from Week 3.\n",
    "* Click on something to toggle between the two (or more) datasets.\n",
    "* Feel free to color and label according to your own taste."
   ]
  },
  {
   "cell_type": "markdown",
   "metadata": {},
   "source": [
    "## Assignment 2D: Visualizing geodata\n",
    "\n",
    "For this final sub-assignment we will visualize your results from the $K$-means exercise from **week 5**.\n",
    "\n",
    "We try our luck with an geospatial visualization displaying results for $K = 2,\\ldots,6$. The overall idea is each value of $K$ has an associated view (you should be able to toggle between these) where each of the $K$ centroids is shown as a large colored dot (you choose the color scheme), and all GPS points belonging to that centroid are colored using a related RGB value. [My plot looks like this](https://raw.githubusercontent.com/suneman/socialdataanalysis2016/master/files/week8_1.png)\n",
    "\n",
    "You may find that following the steps below are helpful\n",
    "* Using Python, create a CVS/JSON file containing the data you wish to visualize.\n",
    "    * The datapoints you should use, is the same as for week 5, so it is all crimes with type = `PROSTITUTION`\n",
    "    * ** Note**: Think carefully about how you can minimize the size of the file containing the data. My file is around 700KB. Why is the size of the file important?\n",
    "* Start by simply creating a map of the SFPD Districts using the [GeoJSON shapefiles we've lovingly found for you](https://raw.githubusercontent.com/suneman/socialdataanalysis2016/master/files/sfpddistricts.geojson). You get to choose the color and other parameters.\n",
    "    * You can find help in chapter 12 in the IDV book. \n",
    "    * ** Note** : If you do not see anything, take a look at the  `scale ` value, and understand the purpose of it. \n",
    "* Start by creating the view for $K = 2$, then generalizing.\n",
    "* Think about how you want to do the toggling. We recommend building 5 simple buttons you can click.\n",
    "  - *[Optional but very cool!]*. You can make your visualization interactive by adding the following functionality. Select each view by clicking a button (standard) but then add the ability to \"preview\" results for some other value of $K$ simply by doing a hover-over of the associated button.\n",
    "* Make the map as fancy as you like. "
   ]
  },
  {
   "cell_type": "code",
   "execution_count": null,
   "metadata": {
    "collapsed": true
   },
   "outputs": [],
   "source": []
  }
 ],
 "metadata": {
  "kernelspec": {
   "display_name": "Python 2",
   "language": "python",
   "name": "python2"
  },
  "language_info": {
   "codemirror_mode": {
    "name": "ipython",
    "version": 2
   },
   "file_extension": ".py",
   "mimetype": "text/x-python",
   "name": "python",
   "nbconvert_exporter": "python",
   "pygments_lexer": "ipython2",
   "version": "2.7.11"
  }
 },
 "nbformat": 4,
 "nbformat_minor": 0
}
