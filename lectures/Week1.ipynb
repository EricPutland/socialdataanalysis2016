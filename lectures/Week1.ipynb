{
 "cells": [
  {
   "cell_type": "markdown",
   "metadata": {},
   "source": [
    "# Week 1\n",
    "\n",
    "## Overview\n",
    "\n",
    "Welcome to the _Social Data Analysis and Visualization_ course.\n",
    "\n",
    "Each week of this class is an IPython notebook like this one. **_In order to successfully follow the class, you simply start reading from the top_**, following the instructions. As you read, you will encounter three things that should cause you to \"leave\" the page for a little bit:\n",
    "\n",
    "* Instructions to go **check out a video lecture**.\n",
    "* Instructions to **read something** (I don't use a single textbook, so will make sure to link to a the relevant text).\n",
    "* Instructions to **solve a few exercises**. Ideally you should solve the exercises on your own, but work on and discuss the problems as part of a 3 person group. Exercises should be carried out within an IPython notebook (explained below). The exercises are the most important part of the class. It is through the exercises that you will learn the course material, and because the exercises lay the foundations for the two mandatory course assignment (due after week 4 and week 8). "
   ]
  },
  {
   "cell_type": "markdown",
   "metadata": {
    "collapsed": true
   },
   "source": [
    "## Today\n",
    "\n",
    "This first lecture will go over a few different topics to get you started \n",
    "\n",
    "* First, I'll talk a little bit about \"how we do things\", which might be a little bit different from what you've tried previously.\n",
    "* Second, I'll help you get your system in shape for all the Python programming we'll do later on.\n",
    "* Third, we'll make sure that you remember how to code in Python.\n",
    "* Fourth, for this course to be fun, we need real-world data to crunch and analyze. Lot's of that \n",
    "* Fifth and finally, we'll put our knowledge of Python and API's to good use and So good luck and have fun! "
   ]
  },
  {
   "cell_type": "markdown",
   "metadata": {},
   "source": [
    "## Part 1: How we do things\n",
    "\n",
    "> **_Video lecture_**: Start by going to the \"Lectures\" section and watching the \"[How we do things](https://dtu.coursera.org/02805-001/lecture/9)\" video (or clicking on the image below to watch it on YouTube). The video explains the pedagogical aspects of how the class works.\n",
    "> "
   ]
  },
  {
   "cell_type": "code",
   "execution_count": 6,
   "metadata": {
    "collapsed": false
   },
   "outputs": [
    {
     "data": {
      "text/html": [
       "\n",
       "        <iframe\n",
       "            width=\"800\"\n",
       "            height=\"450\"\n",
       "            src=\"https://www.youtube.com/embed/NHr6Jzy9q_A\"\n",
       "            frameborder=\"0\"\n",
       "            allowfullscreen\n",
       "        ></iframe>\n",
       "        "
      ],
      "text/plain": [
       "<IPython.lib.display.YouTubeVideo at 0x1061b6710>"
      ]
     },
     "execution_count": 6,
     "metadata": {},
     "output_type": "execute_result"
    }
   ],
   "source": [
    "from IPython.display import YouTubeVideo\n",
    "YouTubeVideo(\"NHr6Jzy9q_A\",width=800, height=450)"
   ]
  },
  {
   "cell_type": "markdown",
   "metadata": {},
   "source": [
    "## Part 2: Installing Python\n",
    "\n",
    "Now it's time to install Python. The most important thing to know before you begin is that we use python 2.7, **so DO NOT install Python 3\\.** \n",
    "\n",
    "* We recommend you use the _Anaconda distribution_ of Python. You can download it [**here**](https://store.continuum.io/cshop/anaconda/).\n",
    "* Once Anaconda is installed, install `jupyter` by typing  \n",
    "`>> conda install jupyter`  \n",
    "and  \n",
    "`>> conda install notebook`  \n",
    "at your command prompt.\n",
    "* You start up the notebook system by typing \"`jupyter notebook`\" and your terminal, and the system should be ready to use in your favorite browser. \n",
    "* Be sure to check the keyboards shortcuts under the heading of \"Help\" where you will find for instance shortcut to code-completion (Tab) and tooltip with documentation (Shift-Tab) which will save you a ton of time.  \n",
    "\n",
    "Part 3 will teach you how to use the IPython Notebook. Note that if you want to use another Python distribution, that's fine, but we cannot promise to help you with anything other than Anaconda. "
   ]
  },
  {
   "cell_type": "markdown",
   "metadata": {},
   "source": [
    "## Part 3: Simple Python exercises\n",
    "\n",
    "> **_Video lecture_**: You get started on this part going to the Lectures section and watching the \"IPython Notebook\" video - or click on the image below to see the video on YouTube. \n",
    "\n",
    "[![IPython](http://img.youtube.com/vi/yC754EgHpck/0.jpg)](http://www.youtube.com/watch?v=yC754EgHpck \"The IPython video\")\n",
    "\n",
    "> _Exercises_\n",
    "> \n",
    "> * Download the IPython file that I've prepared for you and save it somewhere where you can find it again. The link is [**here**](https://dl.dropboxusercontent.com/u/153071/02805/Training_notebook.ipynb). (**Hint**: Be careful not to save this in _.txt_ format - make sure the extension is _.ipynb_.)\n",
    "> * Work through exercise 1-9 in the file, solving the simple Python exercises in there. Also use this as a chance to become familiar with how the IPython notebook works. (And a little bit of `json`). \n",
    "\n",
    "---\n",
    "\n",
    "Now that you've completed working through the IPython notebook, it's time for the moment of truth! If you had great difficulty with the Python coding itself, you're going to be in trouble. Everything we do going forward in this class will depend on you being comfortable with Python. There is simply **no way** that you will be able to do well, if you're also struggling with Python on top of everything else you'll be learning.\n",
    "\n",
    "**So if you're not 100% comfortable with Python, I recommend you stop right now, and follow [Code Academy's excellent short course on Python programming](https://www.codecademy.com/en/tracks/python) before proceeding**. This might seem tough, but the ability to program is a prerequisite for this class, and if you know how to program, you should be able to handle the Python questions above."
   ]
  },
  {
   "cell_type": "markdown",
   "metadata": {},
   "source": [
    "## Part 4: What is an API?\n",
    "\n",
    "Ok, so you're now on top of Python, so let's get started with a quick overview of APIs. \n",
    "> \n",
    "> **_Video lecture_**: Head over to the Lectures section and take a look at the \"Sune's short guide to APIs\" video - or click on the image below to watch it on YouTube.\n",
    "> \n",
    "\n",
    "[![APIs](http://img.youtube.com/vi/9l5zOfh0CRo/0.jpg)](http://www.youtube.com/watch?v=9l5zOfh0CRo \"The API video\") \n",
    "\n",
    "It's time for you to get to work. Take a look at the two texts below - just to get a sense of a more technical description of how APIs work\n",
    "\n",
    "> _Reading_ (just skim): [Wikipedia page on APIs](https://en.wikipedia.org/wiki/Web_API)  \n",
    "> _Reading_ (just skim): [Wikipedia page on REST for web services](https://en.wikipedia.org/wiki/Representational_state_transfer#Applied_to_web_services)\n",
    "> "
   ]
  },
  {
   "cell_type": "markdown",
   "metadata": {},
   "source": [
    "## Part 5: The Twitter API\n",
    "\n",
    "In this final part, we're going to use Python to access Twitter's API. This is the main part or the work today! \n",
    "> \n",
    "> _Reading_: Read through chapter 1 of _Mining the Social Web, 2nd Edition_ (MTSW2e) by Matthew A. Russell. We will focus on content up to page 29, so you can skim the rest.\n",
    "> The first chapter of the book is available for free. You can get it [**here**](https://github.com/ptwobrussell/Mining-the-Social-Web-2nd-Edition).\n",
    "> \n",
    "\n",
    "In MTSW2e, Russell suggests that you install a virtual machine and run Python from there. _That's not necessary_. \n",
    "\n",
    "But you will have to install the [`twitter` Python library](https://github.com/sixohsix/twitter). The `twitter` Python library makes it easier to interact with the Twitter API by creating wrapper around the API urls, as well as loading the json for you. \n",
    "\n",
    "There are a number of Twitter libraries for Python, and it's important that you get the right one (they all do more or less the same thing, but they have different syntax). In order to install the right library, use the Python installer [`pip`](https://en.wikipedia.org/wiki/Pip_(package_manager)). And make sure you use _Anaconda's_ `pip`, which is in the Anaconda base folder (your system may already have `pip` installed as part of another Python distro). On my system (a mac), I installed the `twitter` library by typing\n",
    "\n",
    "    >> ~/anaconda/bin/pip install twitter\n",
    "\n",
    "at the terminal. \n",
    "\n",
    "---\n",
    "\n",
    "> _Exercises_  \n",
    "> Solve the exercise below in a new `notebook`. So when I write \"Work through example ...\", I mean: do that in your `notebook`. Make sure that you add lots of comments in and around your code. Don't forget that these exercises will form the foundation for _Assignment 1_ when that time comes. So it is to your own advantage to write everything up nicely while it's fresh in your memory. \n",
    "> \n",
    "> _Questions about the text_\n",
    "> \n",
    "> * According to Chapter 1, what are some things that we humans might want technology to help us get?\n",
    "> * What's the maximum number of characters in a Tweet?\n",
    "> * How many monthly active users does the book say that we can find on Twitter? \n",
    "> * What is the key difference between connections on Twitter and connections on Facebook?\n",
    "> * Take a look at the tweet meta-data on page 22-25\\. Which fields do you think are most interesting? \n",
    "> \n",
    "> _Coding your way through Chapter 1 of MTSW2e_\n",
    "> \n",
    "> * If you don't have one, start a Twitter account. (And follow @suneman).\n",
    "> * If you're having trouble registering as a developer, you can follow [**this**](https://support.twitter.com/articles/110250#long-code) guide. You might want to use Skype to do this, as international texting can be costly.\n",
    "> * Work through example 1.1 in the book. _Note_: Some of the code in the book is outdated due to changes to the Twitter API (1.0 -\\> 1.1). Updated code can be found [**here**](http://nbviewer.ipython.org/github/ptwobrussell/Mining-the-Social-Web/blob/master/ipython_notebooks/Chapter1.ipynb). Read the text in the book, but use the code from the link as you work though the next exercises.\n",
    "> * Work through example 1.2, and also retrieve the trends for Denmark. What are they? _Hint_: I found the Denmark WOE using [this webpage](http://woeid.rosselliot.co.nz/).\n",
    "> * Work through example 1.3\\. _Bonus_: Can you think of other ways to plot nicely formatted `json` structures? \n",
    "> * Work through example 1.4\\. No need to calculate intersections for the Denmark trends. I'm pretty sure the overlap will be zero.\n",
    "> * Work through example 1.5, but choose your own term to query for. Make sure that it's a term that gets lots of hits.\n",
    "> * Extract the actual tweet text, and retweet count for all of the tweets you downloaded in example 1.5\\. Which tweet is the most popular one?\n",
    "> \n",
    "\n",
    "---\n",
    "\n",
    "And you're done. Don't forget to congratulate yourself for getting all the way through the exercises!"
   ]
  },
  {
   "cell_type": "code",
   "execution_count": null,
   "metadata": {
    "collapsed": true
   },
   "outputs": [],
   "source": []
  }
 ],
 "metadata": {
  "kernelspec": {
   "display_name": "Python 2",
   "language": "python",
   "name": "python2"
  },
  "language_info": {
   "codemirror_mode": {
    "name": "ipython",
    "version": 2
   },
   "file_extension": ".py",
   "mimetype": "text/x-python",
   "name": "python",
   "nbconvert_exporter": "python",
   "pygments_lexer": "ipython2",
   "version": "2.7.10"
  }
 },
 "nbformat": 4,
 "nbformat_minor": 0
}
