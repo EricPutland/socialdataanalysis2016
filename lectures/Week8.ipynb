{
 "cells": [
  {
   "cell_type": "markdown",
   "metadata": {},
   "source": [
    "# Overview\n",
    "\n",
    "This week is straight forward with three main elements\n",
    "\n",
    "* Read the final 3 chapters of IDV\n",
    "* Watch the final video on Visualization theory\n",
    "* Solve an exercise plotting the results from our $K$-means exercise from Week 5.\n",
    "\n",
    "So without further ado, let's get started!\n",
    "\n",
    "**WARNING**: THIS IS A ROUGH DRAFT. PROCEED WITH CAUTION."
   ]
  },
  {
   "cell_type": "markdown",
   "metadata": {},
   "source": [
    "## Reading and coding\n",
    "\n",
    "Once again, it's time to work through the IDV book. Chapter 10 is about adding interactivity, Chapter 11 is about some of the other main data layouts, and finally Chapter is about visualizaing geo-data. I recommend you get a good overview of Chapters 10, 11 so you can come back to them and find the right piece of info when you need it, and pay special attention to Chapter 12 - you'll need it below.\n",
    "\n",
    "> _Reading_: IDV Chapter 10-12"
   ]
  },
  {
   "cell_type": "markdown",
   "metadata": {},
   "source": [
    "## Visualization lecture 3\n",
    "\n",
    "Andrea talks more about the principles of visualization"
   ]
  },
  {
   "cell_type": "code",
   "execution_count": 2,
   "metadata": {
    "collapsed": true
   },
   "outputs": [],
   "source": [
    "# Andrea gives a second lecture on the theoretical elements underlying good visualizations\n",
    "from IPython.display import YouTubeVideo\n",
    "#YouTubeVideo(\"[PLACEHOLDER]\",width=600, height=338)"
   ]
  },
  {
   "cell_type": "markdown",
   "metadata": {},
   "source": [
    "## Visualizing geodata\n",
    "\n",
    "For this final exercise we will visualize your results from the $K$-means exercise from **week 5**.\n",
    "\n",
    "> _Exercise_: We try our luck with an geospatial visualization displaying results for $K = 2,\\ldots,6$. The overall idea is each value of $K$ has an associated view (you should be able to toggle between these) where each of the $K$ centroids is shown as a large colored dot (you choose the color scheme), and all GPS points belonging to that centroid are colored using a related RGB value. [My plot looks like this](https://raw.githubusercontent.com/suneman/socialdataanalysis2016/master/files/week8_1.png)\n",
    "\n",
    "You may find that following the steps below are helpful\n",
    "* Using Python, create a CVS/JSON file containing the data you wish to visualize.\n",
    "    * The datapoints you should use, is the same as for week 5, so it is all crimes with type = `PROSTITUTION`\n",
    "    * ** Note **: Think carefully about how you can minimize the size of the file containing the data. My file is around 700KB. Why is the size important?\n",
    "* Start by simply creating a map of the SFPD Districts using the [GeoJSON shapefiles we've lovingly found for you](https://raw.githubusercontent.com/suneman/socialdataanalysis2016/master/files/sfpddistricts.geojson). You get to choose the color and other parameters.\n",
    "    * You can find help in chapter 12 in the IDV book. \n",
    "    * ** Note ** : If you do not see anything, take a look at the  `scale ` value, and understand the purpose of it. \n",
    "* Start by creating the view for $K = 2$, then generalizing.\n",
    "* Think about how you want to do the toggling. We recommend building 5 simple buttons you can click.\n",
    "  - *[Optional but very cool!]*. You can make your visualization interactive by adding the following functionality. Select each view by clicking a button (standard) but then add the ability to \"preview\" results for some other value of $K$ simply by doing a hover-over of the associated button.\n",
    "* Make the map as fancy as you like. "
   ]
  },
  {
   "cell_type": "markdown",
   "metadata": {
    "collapsed": true
   },
   "source": [
    "## [OPTIONAL] Playing around with the geodata\n",
    "\n",
    "If you want to play a bit more with D3 and the geodata, then try make a plot like [this](https://raw.githubusercontent.com/suneman/socialdataanalysis2016/master/files/week8_2.png), where you color each district according to crime count. \n",
    "* Using python create a json/csv file containing the names of each of the 10 districts and their crime count.\n",
    "* In chapter 12 you can get help to make the color scale according to the max and min crime count. \n",
    "* You can add the PD District name to the map by adding a * text * for each of the features in the geojson file. Like this:                     \n",
    "> .data(json.features).enter().append(\"text\")\n",
    "\n",
    "* How can the labels be positioned?"
   ]
  }
 ],
 "metadata": {
  "kernelspec": {
   "display_name": "Python 2",
   "language": "python",
   "name": "python2"
  },
  "language_info": {
   "codemirror_mode": {
    "name": "ipython",
    "version": 2
   },
   "file_extension": ".py",
   "mimetype": "text/x-python",
   "name": "python",
   "nbconvert_exporter": "python",
   "pygments_lexer": "ipython2",
   "version": "2.7.11"
  }
 },
 "nbformat": 4,
 "nbformat_minor": 0
}
